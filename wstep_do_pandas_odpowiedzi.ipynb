{
  "nbformat": 4,
  "nbformat_minor": 0,
  "metadata": {
    "colab": {
      "provenance": [],
      "authorship_tag": "ABX9TyNBWpnlHkGIK4Vr+2N4idjE"
    },
    "kernelspec": {
      "name": "python3",
      "display_name": "Python 3"
    },
    "language_info": {
      "name": "python"
    }
  },
  "cells": [
    {
      "cell_type": "code",
      "execution_count": 1,
      "metadata": {
        "id": "axJo4_kin-te",
        "executionInfo": {
          "status": "ok",
          "timestamp": 1759948266680,
          "user_tz": -120,
          "elapsed": 1390,
          "user": {
            "displayName": "Paweł Gliwny",
            "userId": "14975809456108615642"
          }
        }
      },
      "outputs": [],
      "source": [
        "import pandas as pd\n",
        "import matplotlib.pyplot as plt\n",
        "\n",
        "# Ustawienia dla polskich znaków\n",
        "plt.rcParams['font.sans-serif'] = ['DejaVu Sans']"
      ]
    },
    {
      "cell_type": "markdown",
      "source": [
        "# **Wstęp do pandas**\n",
        "\n",
        "`Pandas` to biblioteka w Pythonie, która umożliwia łatwe i efektywne manipulowanie oraz analizowanie danych.\n",
        "\n",
        "Jest szczególnie przydatna do pracy z danymi tabelarycznymi, podobnymi do tych w arkuszach kalkulacyjnych."
      ],
      "metadata": {
        "id": "VUQf4pf-B8Xc"
      }
    },
    {
      "cell_type": "markdown",
      "source": [
        "## CZĘŚĆ 1: Tworzenie DataFrame z polskimi danymi"
      ],
      "metadata": {
        "id": "-psmyar2vZcl"
      }
    },
    {
      "cell_type": "code",
      "source": [
        "# Przykład 1: Dane o polskich miastach\n",
        "data_miasta = {\n",
        "    'Miasto': ['Warszawa', 'Kraków', 'Łódź', 'Wrocław', 'Poznań', 'Gdańsk', 'Szczecin'],\n",
        "    'Województwo': ['mazowieckie', 'małopolskie', 'łódzkie', 'dolnośląskie',\n",
        "                    'wielkopolskie', 'pomorskie', 'zachodniopomorskie'],\n",
        "    'Populacja': [1863056, 779966, 672185, 643782, 532048, 470907, 395513],\n",
        "    'Powierzchnia_km2': [517, 327, 293, 293, 262, 262, 301],\n",
        "    'Rok_nadania_praw': [1413, 1257, 1423, 1242, 1253, 1263, 1243]\n",
        "}\n",
        "\n",
        "miasta = pd.DataFrame(data_miasta)\n",
        "print(miasta)"
      ],
      "metadata": {
        "colab": {
          "base_uri": "https://localhost:8080/"
        },
        "id": "Ya8Ff5J1vfGu",
        "executionInfo": {
          "status": "ok",
          "timestamp": 1759948266711,
          "user_tz": -120,
          "elapsed": 9,
          "user": {
            "displayName": "Paweł Gliwny",
            "userId": "14975809456108615642"
          }
        },
        "outputId": "7bb81176-7525-4a24-dda5-504a65600944"
      },
      "execution_count": 2,
      "outputs": [
        {
          "output_type": "stream",
          "name": "stdout",
          "text": [
            "     Miasto         Województwo  Populacja  Powierzchnia_km2  Rok_nadania_praw\n",
            "0  Warszawa         mazowieckie    1863056               517              1413\n",
            "1    Kraków         małopolskie     779966               327              1257\n",
            "2      Łódź             łódzkie     672185               293              1423\n",
            "3   Wrocław        dolnośląskie     643782               293              1242\n",
            "4    Poznań       wielkopolskie     532048               262              1253\n",
            "5    Gdańsk           pomorskie     470907               262              1263\n",
            "6  Szczecin  zachodniopomorskie     395513               301              1243\n"
          ]
        }
      ]
    },
    {
      "cell_type": "markdown",
      "source": [
        "## CZĘŚĆ 2: PODSTAWOWE METODY INSPEKCJI DANYCH"
      ],
      "metadata": {
        "id": "Q8-QyY_ZvyTD"
      }
    },
    {
      "cell_type": "code",
      "source": [
        "print(\">>> .head() - Pierwsze 5 wierszy (lub inna liczba)\")\n",
        "print(miasta.head(3))"
      ],
      "metadata": {
        "colab": {
          "base_uri": "https://localhost:8080/"
        },
        "id": "EUmSekXsv1Ql",
        "executionInfo": {
          "status": "ok",
          "timestamp": 1759948271284,
          "user_tz": -120,
          "elapsed": 9,
          "user": {
            "displayName": "Paweł Gliwny",
            "userId": "14975809456108615642"
          }
        },
        "outputId": "09bc59ca-48d8-49f8-b818-75e930c3100d"
      },
      "execution_count": 3,
      "outputs": [
        {
          "output_type": "stream",
          "name": "stdout",
          "text": [
            ">>> .head() - Pierwsze 5 wierszy (lub inna liczba)\n",
            "     Miasto  Województwo  Populacja  Powierzchnia_km2  Rok_nadania_praw\n",
            "0  Warszawa  mazowieckie    1863056               517              1413\n",
            "1    Kraków  małopolskie     779966               327              1257\n",
            "2      Łódź      łódzkie     672185               293              1423\n"
          ]
        }
      ]
    },
    {
      "cell_type": "code",
      "source": [
        "print(\">>> .info() - Informacje o strukturze danych\")\n",
        "miasta.info()"
      ],
      "metadata": {
        "colab": {
          "base_uri": "https://localhost:8080/"
        },
        "id": "9e-Ro2pJv9Ed",
        "executionInfo": {
          "status": "ok",
          "timestamp": 1759948274604,
          "user_tz": -120,
          "elapsed": 10,
          "user": {
            "displayName": "Paweł Gliwny",
            "userId": "14975809456108615642"
          }
        },
        "outputId": "9fd4d586-a685-4089-936b-7f33d53e6c11"
      },
      "execution_count": 4,
      "outputs": [
        {
          "output_type": "stream",
          "name": "stdout",
          "text": [
            ">>> .info() - Informacje o strukturze danych\n",
            "<class 'pandas.core.frame.DataFrame'>\n",
            "RangeIndex: 7 entries, 0 to 6\n",
            "Data columns (total 5 columns):\n",
            " #   Column            Non-Null Count  Dtype \n",
            "---  ------            --------------  ----- \n",
            " 0   Miasto            7 non-null      object\n",
            " 1   Województwo       7 non-null      object\n",
            " 2   Populacja         7 non-null      int64 \n",
            " 3   Powierzchnia_km2  7 non-null      int64 \n",
            " 4   Rok_nadania_praw  7 non-null      int64 \n",
            "dtypes: int64(3), object(2)\n",
            "memory usage: 412.0+ bytes\n"
          ]
        }
      ]
    },
    {
      "cell_type": "code",
      "source": [
        "print(\">>> .shape - Wymiary DataFrame (wiersze, kolumny)\")\n",
        "print(f\"Nasz DataFrame ma: {miasta.shape[0]} wierszy i {miasta.shape[1]} kolumn\")"
      ],
      "metadata": {
        "colab": {
          "base_uri": "https://localhost:8080/"
        },
        "id": "ao1MUs1Wv9Ny",
        "executionInfo": {
          "status": "ok",
          "timestamp": 1759948277663,
          "user_tz": -120,
          "elapsed": 11,
          "user": {
            "displayName": "Paweł Gliwny",
            "userId": "14975809456108615642"
          }
        },
        "outputId": "e7c3d8bd-87dd-4033-f8d6-8331776387fc"
      },
      "execution_count": 5,
      "outputs": [
        {
          "output_type": "stream",
          "name": "stdout",
          "text": [
            ">>> .shape - Wymiary DataFrame (wiersze, kolumny)\n",
            "Nasz DataFrame ma: 7 wierszy i 5 kolumn\n"
          ]
        }
      ]
    },
    {
      "cell_type": "code",
      "source": [
        "print(\">>> .describe() - Statystyki opisowe dla kolumn numerycznych\")\n",
        "print(miasta.describe())"
      ],
      "metadata": {
        "colab": {
          "base_uri": "https://localhost:8080/"
        },
        "id": "Wz6fsZvNv9aI",
        "executionInfo": {
          "status": "ok",
          "timestamp": 1759948283532,
          "user_tz": -120,
          "elapsed": 18,
          "user": {
            "displayName": "Paweł Gliwny",
            "userId": "14975809456108615642"
          }
        },
        "outputId": "700af489-fb75-41be-9acd-411ad12aa841"
      },
      "execution_count": 6,
      "outputs": [
        {
          "output_type": "stream",
          "name": "stdout",
          "text": [
            ">>> .describe() - Statystyki opisowe dla kolumn numerycznych\n",
            "          Populacja  Powierzchnia_km2  Rok_nadania_praw\n",
            "count  7.000000e+00          7.000000          7.000000\n",
            "mean   7.653510e+05        322.142857       1299.142857\n",
            "std    5.010882e+05         88.856492         81.581102\n",
            "min    3.955130e+05        262.000000       1242.000000\n",
            "25%    5.014775e+05        277.500000       1248.000000\n",
            "50%    6.437820e+05        293.000000       1257.000000\n",
            "75%    7.260755e+05        314.000000       1338.000000\n",
            "max    1.863056e+06        517.000000       1423.000000\n"
          ]
        }
      ]
    },
    {
      "cell_type": "code",
      "source": [
        "print(\">>> .columns - Nazwy kolumn\")\n",
        "print(miasta.columns.tolist())"
      ],
      "metadata": {
        "colab": {
          "base_uri": "https://localhost:8080/"
        },
        "id": "4cb6YFDTwEZh",
        "executionInfo": {
          "status": "ok",
          "timestamp": 1759948287576,
          "user_tz": -120,
          "elapsed": 9,
          "user": {
            "displayName": "Paweł Gliwny",
            "userId": "14975809456108615642"
          }
        },
        "outputId": "f2564a39-aa3d-47f2-a06d-f651094d78f3"
      },
      "execution_count": 7,
      "outputs": [
        {
          "output_type": "stream",
          "name": "stdout",
          "text": [
            ">>> .columns - Nazwy kolumn\n",
            "['Miasto', 'Województwo', 'Populacja', 'Powierzchnia_km2', 'Rok_nadania_praw']\n"
          ]
        }
      ]
    },
    {
      "cell_type": "code",
      "source": [
        "print(\">>> .index - Indeks wierszy\")\n",
        "print(miasta.index)"
      ],
      "metadata": {
        "colab": {
          "base_uri": "https://localhost:8080/"
        },
        "id": "umYrBBs6wIVf",
        "executionInfo": {
          "status": "ok",
          "timestamp": 1759948289959,
          "user_tz": -120,
          "elapsed": 9,
          "user": {
            "displayName": "Paweł Gliwny",
            "userId": "14975809456108615642"
          }
        },
        "outputId": "ecccc3e7-f05c-45b3-b48a-75727e99ff05"
      },
      "execution_count": 8,
      "outputs": [
        {
          "output_type": "stream",
          "name": "stdout",
          "text": [
            ">>> .index - Indeks wierszy\n",
            "RangeIndex(start=0, stop=7, step=1)\n"
          ]
        }
      ]
    },
    {
      "cell_type": "markdown",
      "source": [
        "## CZĘŚĆ 3: SORTOWANIE DANYCH"
      ],
      "metadata": {
        "id": "irKnwUdWwmZw"
      }
    },
    {
      "cell_type": "code",
      "source": [
        "print(\"1. Sortowanie rosnąco po populacji:\")\n",
        "print(miasta.sort_values(\"Populacja\").head())"
      ],
      "metadata": {
        "colab": {
          "base_uri": "https://localhost:8080/"
        },
        "id": "YI5jg5ebwqtS",
        "executionInfo": {
          "status": "ok",
          "timestamp": 1759948316603,
          "user_tz": -120,
          "elapsed": 10,
          "user": {
            "displayName": "Paweł Gliwny",
            "userId": "14975809456108615642"
          }
        },
        "outputId": "1f10384d-83ce-4daf-f85b-4baa5e500df3"
      },
      "execution_count": 10,
      "outputs": [
        {
          "output_type": "stream",
          "name": "stdout",
          "text": [
            "1. Sortowanie rosnąco po populacji:\n",
            "     Miasto         Województwo  Populacja  Powierzchnia_km2  Rok_nadania_praw\n",
            "6  Szczecin  zachodniopomorskie     395513               301              1243\n",
            "5    Gdańsk           pomorskie     470907               262              1263\n",
            "4    Poznań       wielkopolskie     532048               262              1253\n",
            "3   Wrocław        dolnośląskie     643782               293              1242\n",
            "2      Łódź             łódzkie     672185               293              1423\n"
          ]
        }
      ]
    },
    {
      "cell_type": "code",
      "source": [
        "print(\"2. Sortowanie malejąco po populacji:\")\n",
        "print(miasta.sort_values(\"Populacja\", ascending=False).head())"
      ],
      "metadata": {
        "colab": {
          "base_uri": "https://localhost:8080/"
        },
        "id": "uV2DJLacwx0-",
        "executionInfo": {
          "status": "ok",
          "timestamp": 1759948319976,
          "user_tz": -120,
          "elapsed": 9,
          "user": {
            "displayName": "Paweł Gliwny",
            "userId": "14975809456108615642"
          }
        },
        "outputId": "933e2691-4d89-4720-b9fc-c8a9d661d0bb"
      },
      "execution_count": 11,
      "outputs": [
        {
          "output_type": "stream",
          "name": "stdout",
          "text": [
            "2. Sortowanie malejąco po populacji:\n",
            "     Miasto    Województwo  Populacja  Powierzchnia_km2  Rok_nadania_praw\n",
            "0  Warszawa    mazowieckie    1863056               517              1413\n",
            "1    Kraków    małopolskie     779966               327              1257\n",
            "2      Łódź        łódzkie     672185               293              1423\n",
            "3   Wrocław   dolnośląskie     643782               293              1242\n",
            "4    Poznań  wielkopolskie     532048               262              1253\n"
          ]
        }
      ]
    },
    {
      "cell_type": "code",
      "source": [
        "print(\"3. Sortowanie według wielu kolumn:\")\n",
        "print(\"   (Województwo rosnąco, potem Populacja malejąco)\")\n",
        "print(miasta.sort_values([\"Województwo\", \"Populacja\"],\n",
        "                         ascending=[True, False]))"
      ],
      "metadata": {
        "colab": {
          "base_uri": "https://localhost:8080/"
        },
        "id": "6xzmln4Uwx-g",
        "executionInfo": {
          "status": "ok",
          "timestamp": 1759948345245,
          "user_tz": -120,
          "elapsed": 30,
          "user": {
            "displayName": "Paweł Gliwny",
            "userId": "14975809456108615642"
          }
        },
        "outputId": "67feb3f1-1db3-4816-afd2-bcfb048c5449"
      },
      "execution_count": 12,
      "outputs": [
        {
          "output_type": "stream",
          "name": "stdout",
          "text": [
            "3. Sortowanie według wielu kolumn:\n",
            "   (Województwo rosnąco, potem Populacja malejąco)\n",
            "     Miasto         Województwo  Populacja  Powierzchnia_km2  Rok_nadania_praw\n",
            "3   Wrocław        dolnośląskie     643782               293              1242\n",
            "0  Warszawa         mazowieckie    1863056               517              1413\n",
            "1    Kraków         małopolskie     779966               327              1257\n",
            "5    Gdańsk           pomorskie     470907               262              1263\n",
            "4    Poznań       wielkopolskie     532048               262              1253\n",
            "6  Szczecin  zachodniopomorskie     395513               301              1243\n",
            "2      Łódź             łódzkie     672185               293              1423\n"
          ]
        }
      ]
    },
    {
      "cell_type": "markdown",
      "source": [
        "## CZĘŚĆ 4: WYBIERANIE KOLUMN"
      ],
      "metadata": {
        "id": "GduuSU2iyOCb"
      }
    },
    {
      "cell_type": "code",
      "source": [
        "print(\"1. Jedna kolumna (zwraca Series):\")\n",
        "print(miasta[\"Miasto\"])\n",
        "print(f\"\\nTyp: {type(miasta['Miasto'])}\")"
      ],
      "metadata": {
        "colab": {
          "base_uri": "https://localhost:8080/"
        },
        "id": "OLz7moDLyTju",
        "executionInfo": {
          "status": "ok",
          "timestamp": 1759948356962,
          "user_tz": -120,
          "elapsed": 12,
          "user": {
            "displayName": "Paweł Gliwny",
            "userId": "14975809456108615642"
          }
        },
        "outputId": "0c9b0a58-c3bb-4325-e4c3-f4a30942e3f7"
      },
      "execution_count": 13,
      "outputs": [
        {
          "output_type": "stream",
          "name": "stdout",
          "text": [
            "1. Jedna kolumna (zwraca Series):\n",
            "0    Warszawa\n",
            "1      Kraków\n",
            "2        Łódź\n",
            "3     Wrocław\n",
            "4      Poznań\n",
            "5      Gdańsk\n",
            "6    Szczecin\n",
            "Name: Miasto, dtype: object\n",
            "\n",
            "Typ: <class 'pandas.core.series.Series'>\n"
          ]
        }
      ]
    },
    {
      "cell_type": "code",
      "source": [
        "print(\"2. Wiele kolumn (zwraca DataFrame):\")\n",
        "print(miasta[[\"Miasto\", \"Populacja\"]])"
      ],
      "metadata": {
        "colab": {
          "base_uri": "https://localhost:8080/"
        },
        "id": "m2GN0sDEzLV4",
        "executionInfo": {
          "status": "ok",
          "timestamp": 1759948362447,
          "user_tz": -120,
          "elapsed": 12,
          "user": {
            "displayName": "Paweł Gliwny",
            "userId": "14975809456108615642"
          }
        },
        "outputId": "2116dbc9-058d-46ba-c52e-3b970947dac4"
      },
      "execution_count": 14,
      "outputs": [
        {
          "output_type": "stream",
          "name": "stdout",
          "text": [
            "2. Wiele kolumn (zwraca DataFrame):\n",
            "     Miasto  Populacja\n",
            "0  Warszawa    1863056\n",
            "1    Kraków     779966\n",
            "2      Łódź     672185\n",
            "3   Wrocław     643782\n",
            "4    Poznań     532048\n",
            "5    Gdańsk     470907\n",
            "6  Szczecin     395513\n"
          ]
        }
      ]
    },
    {
      "cell_type": "code",
      "source": [
        "print(\"3. Używanie zmiennej z listą kolumn:\")\n",
        "kolumny_do_wyswietlenia = [\"Miasto\", \"Województwo\", \"Populacja\"]\n",
        "print(miasta[kolumny_do_wyswietlenia])"
      ],
      "metadata": {
        "colab": {
          "base_uri": "https://localhost:8080/"
        },
        "id": "Qo7y0NvjzLfq",
        "executionInfo": {
          "status": "ok",
          "timestamp": 1759948365954,
          "user_tz": -120,
          "elapsed": 10,
          "user": {
            "displayName": "Paweł Gliwny",
            "userId": "14975809456108615642"
          }
        },
        "outputId": "a312441a-c0d8-4b9c-e7ab-474210de408c"
      },
      "execution_count": 15,
      "outputs": [
        {
          "output_type": "stream",
          "name": "stdout",
          "text": [
            "3. Używanie zmiennej z listą kolumn:\n",
            "     Miasto         Województwo  Populacja\n",
            "0  Warszawa         mazowieckie    1863056\n",
            "1    Kraków         małopolskie     779966\n",
            "2      Łódź             łódzkie     672185\n",
            "3   Wrocław        dolnośląskie     643782\n",
            "4    Poznań       wielkopolskie     532048\n",
            "5    Gdańsk           pomorskie     470907\n",
            "6  Szczecin  zachodniopomorskie     395513\n"
          ]
        }
      ]
    },
    {
      "cell_type": "markdown",
      "source": [
        "## CZĘŚĆ 5: FILTROWANIE WIERSZY"
      ],
      "metadata": {
        "id": "ZfvpWbO936wI"
      }
    },
    {
      "cell_type": "code",
      "source": [
        "print(\"1. Miasta z populacją powyżej 600 000:\")\n",
        "print(miasta[miasta[\"Populacja\"] > 600000])"
      ],
      "metadata": {
        "colab": {
          "base_uri": "https://localhost:8080/"
        },
        "id": "Bfkn1XZe4BGV",
        "executionInfo": {
          "status": "ok",
          "timestamp": 1759928101911,
          "user_tz": -120,
          "elapsed": 15,
          "user": {
            "displayName": "Paweł Gliwny",
            "userId": "14975809456108615642"
          }
        },
        "outputId": "272f93d5-7822-4f1c-a9d3-dcbf9e9659a2"
      },
      "execution_count": null,
      "outputs": [
        {
          "output_type": "stream",
          "name": "stdout",
          "text": [
            "1. Miasta z populacją powyżej 600 000:\n",
            "     Miasto   Województwo  Populacja  Powierzchnia_km2  Rok_nadania_praw\n",
            "0  Warszawa   mazowieckie    1863056               517              1413\n",
            "1    Kraków   małopolskie     779966               327              1257\n",
            "2      Łódź       łódzkie     672185               293              1423\n",
            "3   Wrocław  dolnośląskie     643782               293              1242\n"
          ]
        }
      ]
    },
    {
      "cell_type": "code",
      "source": [
        "print(\"2. Miasta z województwa mazowieckiego:\")\n",
        "print(miasta[miasta[\"Województwo\"] == \"mazowieckie\"])"
      ],
      "metadata": {
        "colab": {
          "base_uri": "https://localhost:8080/"
        },
        "id": "iR3nRDSV4ueV",
        "executionInfo": {
          "status": "ok",
          "timestamp": 1759928110409,
          "user_tz": -120,
          "elapsed": 14,
          "user": {
            "displayName": "Paweł Gliwny",
            "userId": "14975809456108615642"
          }
        },
        "outputId": "a4c70f2b-0971-4964-a3d6-c82d8225952c"
      },
      "execution_count": null,
      "outputs": [
        {
          "output_type": "stream",
          "name": "stdout",
          "text": [
            "2. Miasta z województwa mazowieckiego:\n",
            "     Miasto  Województwo  Populacja  Powierzchnia_km2  Rok_nadania_praw\n",
            "0  Warszawa  mazowieckie    1863056               517              1413\n"
          ]
        }
      ]
    },
    {
      "cell_type": "code",
      "source": [
        "print(\"3. Miasta z prawami miejskimi przed 1300 rokiem:\")\n",
        "print(miasta[miasta[\"Rok_nadania_praw\"] < 1300])"
      ],
      "metadata": {
        "colab": {
          "base_uri": "https://localhost:8080/"
        },
        "id": "zpmyBDG34unI",
        "executionInfo": {
          "status": "ok",
          "timestamp": 1759928216266,
          "user_tz": -120,
          "elapsed": 11,
          "user": {
            "displayName": "Paweł Gliwny",
            "userId": "14975809456108615642"
          }
        },
        "outputId": "1cf2b357-dcbf-42f6-da16-35db8c6a49d7"
      },
      "execution_count": null,
      "outputs": [
        {
          "output_type": "stream",
          "name": "stdout",
          "text": [
            "3. Miasta z prawami miejskimi przed 1300 rokiem:\n",
            "     Miasto         Województwo  Populacja  Powierzchnia_km2  Rok_nadania_praw\n",
            "1    Kraków         małopolskie     779966               327              1257\n",
            "3   Wrocław        dolnośląskie     643782               293              1242\n",
            "4    Poznań       wielkopolskie     532048               262              1253\n",
            "5    Gdańsk           pomorskie     470907               262              1263\n",
            "6  Szczecin  zachodniopomorskie     395513               301              1243\n"
          ]
        }
      ]
    },
    {
      "cell_type": "code",
      "source": [
        "print(\"4. Złożone warunki z operatorem AND (&):\")\n",
        "print(\"   Miasta powyżej 500k ludności I powierzchnia powyżej 280 km²\")\n",
        "duze_miasta = miasta[(miasta[\"Populacja\"] > 500000) &\n",
        "                     (miasta[\"Powierzchnia_km2\"] > 280)]\n",
        "print(duze_miasta)"
      ],
      "metadata": {
        "colab": {
          "base_uri": "https://localhost:8080/"
        },
        "id": "SpsoLEnS4uqV",
        "executionInfo": {
          "status": "ok",
          "timestamp": 1759928213704,
          "user_tz": -120,
          "elapsed": 22,
          "user": {
            "displayName": "Paweł Gliwny",
            "userId": "14975809456108615642"
          }
        },
        "outputId": "de1881ac-1575-4bc8-d0a2-07dfb440b6e8"
      },
      "execution_count": null,
      "outputs": [
        {
          "output_type": "stream",
          "name": "stdout",
          "text": [
            "4. Złożone warunki z operatorem AND (&):\n",
            "   Miasta powyżej 500k ludności I powierzchnia powyżej 280 km²\n",
            "     Miasto   Województwo  Populacja  Powierzchnia_km2  Rok_nadania_praw\n",
            "0  Warszawa   mazowieckie    1863056               517              1413\n",
            "1    Kraków   małopolskie     779966               327              1257\n",
            "2      Łódź       łódzkie     672185               293              1423\n",
            "3   Wrocław  dolnośląskie     643782               293              1242\n"
          ]
        }
      ]
    },
    {
      "cell_type": "code",
      "source": [
        "print(\"5. Złożone warunki z operatorem OR (|):\")\n",
        "print(\"   Miasta z Warszawy LUB Krakowa\")\n",
        "stolice = miasta[(miasta[\"Miasto\"] == \"Warszawa\") |\n",
        "                 (miasta[\"Miasto\"] == \"Kraków\")]\n",
        "print(stolice)\n"
      ],
      "metadata": {
        "colab": {
          "base_uri": "https://localhost:8080/"
        },
        "id": "TmqT4Q6m4ut0",
        "executionInfo": {
          "status": "ok",
          "timestamp": 1759928237245,
          "user_tz": -120,
          "elapsed": 52,
          "user": {
            "displayName": "Paweł Gliwny",
            "userId": "14975809456108615642"
          }
        },
        "outputId": "e107ee55-84a4-46a3-890d-c06cd0ace742"
      },
      "execution_count": null,
      "outputs": [
        {
          "output_type": "stream",
          "name": "stdout",
          "text": [
            "5. Złożone warunki z operatorem OR (|):\n",
            "   Miasta z Warszawy LUB Krakowa\n",
            "     Miasto  Województwo  Populacja  Powierzchnia_km2  Rok_nadania_praw\n",
            "0  Warszawa  mazowieckie    1863056               517              1413\n",
            "1    Kraków  małopolskie     779966               327              1257\n"
          ]
        }
      ]
    },
    {
      "cell_type": "code",
      "source": [
        "print(\"6. Używanie .isin() dla wielu wartości:\")\n",
        "wybrane_miasta = [\"Warszawa\", \"Kraków\", \"Wrocław\"]\n",
        "print(miasta[miasta[\"Miasto\"].isin(wybrane_miasta)])"
      ],
      "metadata": {
        "colab": {
          "base_uri": "https://localhost:8080/"
        },
        "id": "32ljqNJm4uxh",
        "executionInfo": {
          "status": "ok",
          "timestamp": 1759928286741,
          "user_tz": -120,
          "elapsed": 26,
          "user": {
            "displayName": "Paweł Gliwny",
            "userId": "14975809456108615642"
          }
        },
        "outputId": "61b2e6a4-9fe5-468f-b251-c5f2e282c145"
      },
      "execution_count": null,
      "outputs": [
        {
          "output_type": "stream",
          "name": "stdout",
          "text": [
            "6. Używanie .isin() dla wielu wartości:\n",
            "     Miasto   Województwo  Populacja  Powierzchnia_km2  Rok_nadania_praw\n",
            "0  Warszawa   mazowieckie    1863056               517              1413\n",
            "1    Kraków   małopolskie     779966               327              1257\n",
            "3   Wrocław  dolnośląskie     643782               293              1242\n"
          ]
        }
      ]
    },
    {
      "cell_type": "markdown",
      "source": [
        "## CZĘŚĆ 6: DODAWANIE NOWYCH KOLUMN"
      ],
      "metadata": {
        "id": "K41DtqKX5wCf"
      }
    },
    {
      "cell_type": "code",
      "source": [
        "print(\"1. Obliczanie gęstości zaludnienia:\")\n",
        "miasta[\"Gęstość_na_km2\"] = miasta[\"Populacja\"] / miasta[\"Powierzchnia_km2\"]\n",
        "print(miasta[[\"Miasto\", \"Populacja\", \"Powierzchnia_km2\", \"Gęstość_na_km2\"]])"
      ],
      "metadata": {
        "colab": {
          "base_uri": "https://localhost:8080/"
        },
        "id": "-jP0P7F05zaj",
        "executionInfo": {
          "status": "ok",
          "timestamp": 1759928547414,
          "user_tz": -120,
          "elapsed": 14,
          "user": {
            "displayName": "Paweł Gliwny",
            "userId": "14975809456108615642"
          }
        },
        "outputId": "1ecec4be-5e08-4900-ac99-f75297f38297"
      },
      "execution_count": null,
      "outputs": [
        {
          "output_type": "stream",
          "name": "stdout",
          "text": [
            "1. Obliczanie gęstości zaludnienia:\n",
            "     Miasto  Populacja  Powierzchnia_km2  Gęstość_na_km2\n",
            "0  Warszawa    1863056               517     3603.589942\n",
            "1    Kraków     779966               327     2385.217125\n",
            "2      Łódź     672185               293     2294.146758\n",
            "3   Wrocław     643782               293     2197.208191\n",
            "4    Poznań     532048               262     2030.717557\n",
            "5    Gdańsk     470907               262     1797.354962\n",
            "6  Szczecin     395513               301     1313.996678\n"
          ]
        }
      ]
    },
    {
      "cell_type": "code",
      "source": [
        "print(\"2. Kategoryzacja miast według wielkości:\")\n",
        "def kategoryzuj_miasto(populacja):\n",
        "    if populacja > 1000000:\n",
        "        return \"Bardzo duże\"\n",
        "    elif populacja > 500000:\n",
        "        return \"Duże\"\n",
        "    else:\n",
        "        return \"Średnie\"\n",
        "\n",
        "miasta[\"Kategoria\"] = miasta[\"Populacja\"].apply(kategoryzuj_miasto)\n",
        "print(miasta[[\"Miasto\", \"Populacja\", \"Kategoria\"]])"
      ],
      "metadata": {
        "colab": {
          "base_uri": "https://localhost:8080/"
        },
        "id": "5pECuBXQ6lzI",
        "executionInfo": {
          "status": "ok",
          "timestamp": 1759928549511,
          "user_tz": -120,
          "elapsed": 31,
          "user": {
            "displayName": "Paweł Gliwny",
            "userId": "14975809456108615642"
          }
        },
        "outputId": "0aaec1d5-e413-4dec-b473-59fe2e56de81"
      },
      "execution_count": null,
      "outputs": [
        {
          "output_type": "stream",
          "name": "stdout",
          "text": [
            "2. Kategoryzacja miast według wielkości:\n",
            "     Miasto  Populacja    Kategoria\n",
            "0  Warszawa    1863056  Bardzo duże\n",
            "1    Kraków     779966         Duże\n",
            "2      Łódź     672185         Duże\n",
            "3   Wrocław     643782         Duże\n",
            "4    Poznań     532048         Duże\n",
            "5    Gdańsk     470907      Średnie\n",
            "6  Szczecin     395513      Średnie\n"
          ]
        }
      ]
    },
    {
      "cell_type": "markdown",
      "source": [
        "# **Zadania**"
      ],
      "metadata": {
        "id": "vHDBpbq16qRt"
      }
    },
    {
      "cell_type": "code",
      "source": [
        "# Dataset do zadań\n",
        "temperatura = pd.DataFrame({\n",
        "    'Miasto': ['Warszawa', 'Kraków', 'Gdańsk', 'Wrocław', 'Poznań', 'Łódź'],\n",
        "    'Styczeń': [-2, -1, 0, -1, -2, -3],\n",
        "    'Kwiecień': [9, 10, 8, 11, 10, 9],\n",
        "    'Lipiec': [19, 20, 17, 21, 19, 20],\n",
        "    'Październik': [9, 9, 10, 10, 9, 8]\n",
        "})\n",
        "\n",
        "print(\"Dataset 'temperatura' - średnie temperatury w polskich miastach:\")\n",
        "print(temperatura)"
      ],
      "metadata": {
        "colab": {
          "base_uri": "https://localhost:8080/"
        },
        "id": "azJ0u_Nm6x-R",
        "executionInfo": {
          "status": "ok",
          "timestamp": 1759948303445,
          "user_tz": -120,
          "elapsed": 21,
          "user": {
            "displayName": "Paweł Gliwny",
            "userId": "14975809456108615642"
          }
        },
        "outputId": "7bd7fd4d-dbe1-46e2-ca97-3cc2d83c6fe9"
      },
      "execution_count": 9,
      "outputs": [
        {
          "output_type": "stream",
          "name": "stdout",
          "text": [
            "Dataset 'temperatura' - średnie temperatury w polskich miastach:\n",
            "     Miasto  Styczeń  Kwiecień  Lipiec  Październik\n",
            "0  Warszawa       -2         9      19            9\n",
            "1    Kraków       -1        10      20            9\n",
            "2    Gdańsk        0         8      17           10\n",
            "3   Wrocław       -1        11      21           10\n",
            "4    Poznań       -2        10      19            9\n",
            "5      Łódź       -3         9      20            8\n"
          ]
        }
      ]
    },
    {
      "cell_type": "markdown",
      "source": [
        "## **Zadanie 1: podstawowa inspekcja**\n",
        "\n",
        "Używając DataFrame `temperatura`, wykonaj następujące operacje:\n",
        "\n",
        "a) Wyświetl pierwsze 3 wiersze\n",
        "\n",
        "b) Wyświetl informacje o typach danych (.info())\n",
        "\n",
        "c) Wyświetl kształt DataFrame (.shape)\n",
        "\n",
        "d) Wyświetl tylko nazwy kolumn (.columns)"
      ],
      "metadata": {
        "id": "T9V6fZNC67e0"
      }
    },
    {
      "cell_type": "code",
      "source": "# Zadanie 1 — a) head(3), b) info()\nprint(\"a) Pierwsze 3 wiersze:\")\ndisplay(temperatura.head(3))\n\nprint(\"\\nb) Informacje o typach danych:\")\ntemperatura.info()\n",
      "metadata": {
        "id": "teGLqyvt7MpV"
      },
      "execution_count": null,
      "outputs": []
    },
    {
      "cell_type": "code",
      "source": "# Zadanie 1 — c) shape, d) columns\nprint(\"c) Kształt DataFrame (wiersze, kolumny):\", temperatura.shape)\nprint(\"\\nd) Nazwy kolumn:\")\nprint(list(temperatura.columns))\n",
      "metadata": {
        "id": "1IHol11A7V8l"
      },
      "execution_count": null,
      "outputs": []
    },
    {
      "cell_type": "markdown",
      "source": [
        "## **Zadanie 2: sortowanie**\n",
        "\n",
        "a) Posortuj miasta według temperatury w lipcu (rosnąco)\n",
        "\n",
        "b) Posortuj miasta według temperatury w styczniu (malejąco)\n",
        "\n",
        "c) Posortuj miasta według temperatury w lipcu (malejąco), a następnie według kwietnia (rosnąco)"
      ],
      "metadata": {
        "id": "kLt64lbF7TQ-"
      }
    },
    {
      "cell_type": "code",
      "source": "# Zadanie 2 — sortowanie\n# a) Lipiec rosnąco\nprint(\"a) Sort wg 'Lipiec' rosnąco:\")\ndisplay(temperatura.sort_values(by=\"Lipiec\", ascending=True))\n\n# b) Styczeń malejąco\nprint(\"\\nb) Sort wg 'Styczeń' malejąco:\")\ndisplay(temperatura.sort_values(by=\"Styczeń\", ascending=False))\n\n# c) Lipiec malejąco, następnie Kwiecień rosnąco\nprint(\"\\nc) Sort wg 'Lipiec' malejąco, potem 'Kwiecień' rosnąco:\")\ndisplay(temperatura.sort_values(by=[\"Lipiec\",\"Kwiecień\"], ascending=[False, True]))\n",
      "metadata": {
        "id": "OwuaJUiT78mn"
      },
      "execution_count": null,
      "outputs": []
    },
    {
      "cell_type": "markdown",
      "source": [
        "## **Zadanie 3: Wybieranie kolumn**\n",
        "\n",
        "a) Wybierz tylko kolumnę 'Miasto' (wynik: Series)\n",
        "\n",
        "b) Wybierz kolumny 'Miasto' i 'Lipiec' (wynik: DataFrame)\n",
        "\n",
        "c) Wybierz kolumny 'Miasto', 'Styczeń' i 'Lipiec', używając zmiennej z listą nazw kolumn"
      ],
      "metadata": {
        "id": "MF4HmRAu8lv7"
      }
    },
    {
      "cell_type": "code",
      "source": "# Zadanie 3 — wybieranie kolumn\n# a) tylko 'Miasto' (Series)\nprint(\"a) Kolumna 'Miasto' (Series):\")\ndisplay(temperatura[\"Miasto\"])\n\n# b) 'Miasto' i 'Lipiec' (DataFrame)\nprint(\"\\nb) Kolumny 'Miasto' i 'Lipiec':\")\ndisplay(temperatura[[\"Miasto\", \"Lipiec\"]])\n\n# c) przez listę nazw\nkolumny = [\"Miasto\", \"Styczeń\", \"Lipiec\"]\nprint(\"\\nc) Wybrane kolumny:\", kolumny)\ndisplay(temperatura[kolumny])\n",
      "metadata": {
        "id": "ap_g67I89T2d"
      },
      "execution_count": null,
      "outputs": []
    },
    {
      "cell_type": "markdown",
      "source": [
        "## **Zadanie 4: Filtrowanie**\n",
        "a) Znajdź miasta, gdzie temperatura w lipcu jest większa niż 19 stopni\n",
        "\n",
        "b) Znajdź miasta, gdzie temperatura w styczniu jest większa lub równa -1\n",
        "\n",
        "c) Znajdź miasta, gdzie temperatura w kwietniu wynosi dokładnie 10 stopni\n",
        "\n",
        "d) Znajdź miasta, gdzie temperatura w lipcu jest 20 LUB temperatura w styczniu jest -1"
      ],
      "metadata": {
        "id": "Y4p3GykD9ato"
      }
    },
    {
      "cell_type": "code",
      "source": "# Zadanie 4 — filtrowanie\n# a) Lipiec > 19\nprint(\"a) Miasta z 'Lipiec' > 19:\")\ndisplay(temperatura[temperatura[\"Lipiec\"] > 19])\n\n# b) Styczeń >= -1\nprint(\"\\nb) Miasta z 'Styczeń' >= -1:\")\ndisplay(temperatura[temperatura[\"Styczeń\"] >= -1])\n",
      "metadata": {
        "id": "MuNaWxTp9xwS"
      },
      "execution_count": null,
      "outputs": []
    },
    {
      "cell_type": "markdown",
      "source": [
        "## **Zadanie 5: Złożone filtrowanie**\n",
        "a) Znajdź miasta, gdzie temperatura w lipcu > 18 ORAZ w styczniu >= -2\n",
        "\n",
        "b) Znajdź miasta: 'Warszawa', 'Kraków', 'Gdańsk'\n",
        "\n",
        "c) Znajdź miasta, gdzie temperatura w lipcu jest między 18 a 20 stopni (włącznie)"
      ],
      "metadata": {
        "id": "NFSh_sgt9yS8"
      }
    },
    {
      "cell_type": "code",
      "source": "# Zadanie 5 — złożone filtrowanie\n# a) Lipiec > 18 AND Styczeń >= -2\nprint(\"a) Lipiec > 18 i Styczeń >= -2:\")\nmaska = (temperatura[\"Lipiec\"] > 18) & (temperatura[\"Styczeń\"] >= -2)\ndisplay(temperatura[maska])\n\n# b) Wybrane miasta\nprint(\"\\nb) Miasta: Warszawa, Kraków, Gdańsk:\")\ndisplay(temperatura[temperatura[\"Miasto\"].isin([\"Warszawa\",\"Kraków\",\"Gdańsk\"])])\n\n# c) Lipiec między 18 a 20 (włącznie)\nprint(\"\\nc) Lipiec między 18 a 20 (włącznie):\")\ndisplay(temperatura[temperatura[\"Lipiec\"].between(18, 20, inclusive=\"both\")])\n",
      "metadata": {
        "id": "C9hpjCIO-zeH"
      },
      "execution_count": null,
      "outputs": []
    },
    {
      "cell_type": "markdown",
      "source": [
        "## **Zadanie 6: Dodawanie nowych kolumn**\n",
        "a) Dodaj kolumnę 'Średnia_roczna' - średnia z wszystkich miesięcy\n",
        "\n",
        "b) Dodaj kolumnę 'Amplituda' - różnica między lipcem a styczniem\n",
        "\n",
        "c) Dodaj kolumnę 'Ciepłe_miasto' (True jeśli średnia roczna > 11, False w przeciwnym razie)"
      ],
      "metadata": {
        "id": "kRkFnU3Y-1nD"
      }
    },
    {
      "cell_type": "code",
      "source": "# Zadanie 6 — dodawanie nowych kolumn\nmies_cols = [\"Styczeń\",\"Kwiecień\",\"Lipiec\",\"Październik\"]\n\n# a) Średnia_roczna\ntemperatura[\"Średnia_roczna\"] = temperatura[mies_cols].mean(axis=1)\n\n# b) Amplituda (Lipiec - Styczeń)\ntemperatura[\"Amplituda\"] = temperatura[\"Lipiec\"] - temperatura[\"Styczeń\"]\n\n# c) Ciepłe_miasto (średnia > 11)\ntemperatura[\"Ciepłe_miasto\"] = temperatura[\"Średnia_roczna\"] > 11\n\ndisplay(temperatura)\n",
      "metadata": {
        "id": "4FHpDciR-RMn"
      },
      "execution_count": null,
      "outputs": []
    },
    {
      "cell_type": "markdown",
      "source": [
        "## **Zadanie: zaawansowane**\n",
        "\n",
        "\n",
        "```\n",
        "# Nowy dataset dla zaawansowanego zadania\n",
        "wyniki_egzaminy = pd.DataFrame({\n",
        "    'Student': ['Anna', 'Bartek', 'Celina', 'Damian', 'Ewa', 'Filip', 'Gabriela', 'Hubert'],\n",
        "    'Matematyka': [85, 92, 78, 88, 95, 72, 89, 81],\n",
        "    'Fizyka': [78, 88, 82, 75, 91, 68, 85, 79],\n",
        "    'Informatyka': [92, 85, 88, 90, 89, 95, 82, 87],\n",
        "    'Kierunek': ['Informatyka', 'Fizyka', 'Matematyka', 'Informatyka',\n",
        "                 'Matematyka', 'Informatyka', 'Fizyka', 'Matematyka']\n",
        "})\n",
        "```\n",
        "\n",
        "\n",
        "\n",
        "\n",
        "\n",
        "a) Dodaj kolumnę 'Średnia' z wyników z trzech przedmiotów\n",
        "\n",
        "b) Dodaj kolumnę 'Status' - 'Zaliczony' jeśli średnia >= 85, 'Niezaliczony' w przeciwnym razie\n",
        "\n",
        "c) Dla każdego kierunku znajdź studenta z najwyższą średnią:\n",
        "   - Przefiltruj po kierunku\n",
        "   - Posortuj według średniej malejąco\n",
        "   - Weź pierwszy wiersz\n",
        "   - Wykonaj dla każdego z 3 kierunków\n",
        "\n",
        "d) Znajdź wszystkich studentów informatyki, którzy mają średnią >= 85\n",
        "   i wynik z informatyki >= 90, posortowanych według średniej malejąco"
      ],
      "metadata": {
        "id": "nGOMr7Y1_88K"
      }
    },
    {
      "cell_type": "code",
      "source": "# Zadanie zaawansowane\n# Tworzymy dataset\nwyniki_egzaminy = pd.DataFrame({\n    'Student': ['Anna', 'Bartek', 'Celina', 'Damian', 'Ewa', 'Filip', 'Gabriela', 'Hubert'],\n    'Matematyka': [85, 92, 78, 88, 95, 72, 89, 81],\n    'Fizyka': [78, 88, 82, 75, 91, 68, 85, 79],\n    'Informatyka': [92, 85, 88, 90, 89, 95, 82, 87],\n    'Kierunek': ['Informatyka', 'Fizyka', 'Matematyka', 'Informatyka',\n                 'Matematyka', 'Informatyka', 'Fizyka', 'Matematyka']\n})\n\n# a) kolumna 'Średnia'\nwyniki_egzaminy[\"Średnia\"] = wyniki_egzaminy[[\"Matematyka\",\"Fizyka\",\"Informatyka\"]].mean(axis=1)\n\n# b) kolumna 'Status'\nwyniki_egzaminy[\"Status\"] = np.where(wyniki_egzaminy[\"Średnia\"] >= 85, \"Zaliczony\", \"Niezaliczony\")\n\nprint(\"Tabela wyników z kolumnami 'Średnia' i 'Status':\")\ndisplay(wyniki_egzaminy)\n\n# c) dla każdego kierunku — student z najwyższą średnią\nprint(\"\\nNajlepsi studenci per kierunek:\")\nbest_per_dir = (wyniki_egzaminy\n                .sort_values([\"Kierunek\",\"Średnia\"], ascending=[True, False])\n                .groupby(\"Kierunek\", as_index=False)\n                .head(1))\ndisplay(best_per_dir[[\"Kierunek\",\"Student\",\"Średnia\"]])\n\n# d) Informatyka: średnia >=85 i Informatyka >=90, sort malejąco po średniej\nprint(\"\\nInformatyka — filtr: Średnia >= 85 i Informatyka >= 90:\")\nfiltr_inf = (wyniki_egzaminy\n             .query(\"Kierunek == 'Informatyka'\")\n             .query(\"Średnia >= 85 and Informatyka >= 90\")\n             .sort_values(\"Średnia\", ascending=False))\ndisplay(filtr_inf[[\"Student\",\"Średnia\",\"Informatyka\",\"Kierunek\"]])\n",
      "metadata": {
        "id": "Jt-Mt0sPAwlr"
      },
      "execution_count": null,
      "outputs": []
    }
  ]
}