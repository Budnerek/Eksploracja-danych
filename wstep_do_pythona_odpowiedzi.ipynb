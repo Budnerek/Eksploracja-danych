{
  "nbformat": 4,
  "nbformat_minor": 0,
  "metadata": {
    "colab": {
      "provenance": [],
      "authorship_tag": "ABX9TyOVpcJu5R0LhuJJRtUoe36n"
    },
    "kernelspec": {
      "name": "python3",
      "display_name": "Python 3"
    },
    "language_info": {
      "name": "python"
    }
  },
  "cells": [
    {
      "cell_type": "code",
      "execution_count": null,
      "metadata": {
        "id": "VLt3C7dqC8Ms"
      },
      "outputs": [],
      "source": [
        "## Import bibliotek\n",
        "import matplotlib.pyplot as plt\n",
        "import pandas as pd\n",
        "import numpy as np\n",
        "import random\n",
        "\n",
        "plt.rcParams.update({'font.size': 12})\n",
        "plt.rcParams['figure.figsize'] = (10, 6)\n"
      ]
    },
    {
      "cell_type": "markdown",
      "source": [
        "ZADANIE 1: Analiza danych sprzedażowych\n",
        "---------------------------------------\n",
        "Dane: Miesięczna sprzedaż produktu w PLN\n",
        "\n",
        "sprzedaz = [12500, 13200, 15800, 14200, 16500, 18200, 17800, 19200,\n",
        "            20500, 21300, 23500, 25200]\n",
        "\n",
        "a) Oblicz podstawowe statystyki (średnia, mediana, min, max)\n",
        "\n",
        "b) Znajdź miesiące ze sprzedażą powyżej średniej\n",
        "\n",
        "c) Oblicz procentowy wzrost sprzedaży (grudzień vs styczeń)\n",
        "\n",
        "d) Stwórz wykres liniowy pokazujący trend\n",
        "\n",
        "e) Dodaj linię średniej na wykresie\n"
      ],
      "metadata": {
        "id": "4fR46H1vDU8_"
      }
    },
    {
      "cell_type": "code",
      "source": "# ZADANIE 1 — rozwiązanie\n# a) statystyki, b) miesiące > średniej, c) wzrost %, d) wykres trendu z linią średniej\nimport numpy as np\nimport matplotlib.pyplot as plt\n\nsprzedaz = [12500, 13200, 15800, 14200, 16500, 18200, 17800, 19200,\n            20500, 21300, 23500, 25200]\nmiesiace = ['Sty', 'Lut', 'Mar', 'Kwi', 'Maj', 'Cze', 'Lip', 'Sie', 'Wrz', 'Paź', 'Lis', 'Gru']\n\nsrednia = float(np.mean(sprzedaz))\nmediana = float(np.median(sprzedaz))\nmin_v, max_v = int(np.min(sprzedaz)), int(np.max(sprzedaz))\n\nprint(f\"Średnia: {srednia:.2f}  |  Mediana: {mediana:.2f}  |  Min: {min_v}  |  Max: {max_v}\")\nprint(\"Miesiące > średniej:\", [m for m,v in zip(miesiace, sprzedaz) if v > srednia])\nprint(f\"Wzrost % (grudzień vs styczeń): {(sprzedaz[-1]-sprzedaz[0])/sprzedaz[0]*100:.2f}%\")\n\nplt.figure()\nplt.plot(miesiace, sprzedaz, marker=\"o\", label=\"Sprzedaż\")\nplt.axhline(srednia, linestyle=\"--\", label=f\"Średnia = {srednia:.0f}\")\nplt.title(\"Sprzedaż miesięczna\")\nplt.xlabel(\"Miesiąc\"); plt.ylabel(\"PLN\"); plt.legend(); plt.tight_layout(); plt.show()\n",
      "metadata": {
        "id": "UVWLRr0vJ4mb"
      },
      "execution_count": null,
      "outputs": []
    },
    {
      "cell_type": "markdown",
      "source": [
        "ADANIE 2: Słowniki - Analiza portfolio\n",
        "---------------------------------------\n",
        "Stwórz słownik opisujący portfolio inwestycyjne:\n",
        "```\n",
        "portfolio = {\n",
        "    'AAPL': {'liczba': 10, 'cena_zakupu': 150, 'cena_aktualna': 175},\n",
        "    'GOOGL': {'liczba': 5, 'cena_zakupu': 2800, 'cena_aktualna': 2950},\n",
        "    'MSFT': {'liczba': 15, 'cena_zakupu': 300, 'cena_aktualna': 320}\n",
        "}\n",
        "```\n",
        "\n",
        "a) Oblicz całkowitą wartość początkową portfolio\n",
        "\n",
        "b) Oblicz aktualną wartość portfolio\n",
        "\n",
        "c) Oblicz zysk/stratę dla każdej akcji\n",
        "\n",
        "d) Które akcje przynoszą największy zwrot (w %)?\n"
      ],
      "metadata": {
        "id": "Apk8zDlxJ44d"
      }
    },
    {
      "cell_type": "code",
      "source": "# ZADANIE 2 — rozwiązanie\n# a) wartość początkowa, b) aktualna, c) zysk/zwrot per spółka i łącznie, d) największy zwrot %\nimport pandas as pd\n\nportfolio = {\n    'AAPL': {'liczba': 10, 'cena_zakupu': 150, 'cena_aktualna': 175},\n    'GOOGL': {'liczba': 5, 'cena_zakupu': 2800, 'cena_aktualna': 2950},\n    'MSFT': {'liczba': 15, 'cena_zakupu': 300, 'cena_aktualna': 320}\n}\n\nwart_pocz = sum(v['liczba'] * v['cena_zakupu'] for v in portfolio.values())\nwart_akt  = sum(v['liczba'] * v['cena_aktualna'] for v in portfolio.values())\nprint(f\"Wartość początkowa: {wart_pocz:.2f}  |  Wartość aktualna: {wart_akt:.2f}\")\nprint(f\"Zysk łączny: {wart_akt-wart_pocz:.2f}  |  Zwrot łączny: {(wart_akt/wart_pocz-1)*100:.2f}%\")\n\nrows = []\nfor t,v in portfolio.items():\n    koszt = v['liczba']*v['cena_zakupu']\n    wart  = v['liczba']*v['cena_aktualna']\n    zysk  = wart - koszt\n    zwrot = (v['cena_aktualna']/v['cena_zakupu'] - 1)*100\n    rows.append((t, v['liczba'], v['cena_zakupu'], v['cena_aktualna'], koszt, wart, zysk, zwrot))\n\ndf = pd.DataFrame(rows, columns=[\"TICKER\",\"liczba\",\"cena_zakupu\",\"cena_aktualna\",\"koszt\",\"wartość\",\"zysk\",\"zwrot_%\"])\ndisplay(df)\n\nbest = df.sort_values(\"zwrot_%\", ascending=False).iloc[0]\nprint(f\"Największy zwrot %: {best.TICKER} = {best['zwrot_%']:.2f}%\")\n",
      "metadata": {
        "id": "puEW1ySCKt3Q"
      },
      "execution_count": null,
      "outputs": []
    },
    {
      "cell_type": "markdown",
      "source": [
        "ZADANIE 3: Wizualizacja danych klimatycznych\n",
        "--------------------------------------------\n",
        "temp_2022 = [2, 4, 8, 13, 18, 21, 24, 23, 19, 14, 8, 3]\n",
        "\n",
        "\n",
        "temp_2023 = [3, 5, 9, 14, 19, 22, 25, 24, 20, 15, 9, 4]\n",
        "\n",
        "miesiace = ['Sty', 'Lut', 'Mar', 'Kwi', 'Maj', 'Cze',\n",
        "            'Lip', 'Sie', 'Wrz', 'Paź', 'Lis', 'Gru']\n",
        "\n",
        "a) Stwórz wykres liniowy porównujący temperatury w obu latach\n",
        "\n",
        "b) Zaznacz najcieplejszy i najzimniejszy miesiąc każdego roku\n",
        "\n",
        "c) Oblicz średnią różnicę temperatur między latami\n",
        "\n",
        "d) Dodaj odpowiednie etykiety, legendę i tytuł"
      ],
      "metadata": {
        "id": "ZzaD9_PMKuJs"
      }
    },
    {
      "cell_type": "code",
      "source": "# ZADANIE 3 — rozwiązanie\n# a) wykres 2022 vs 2023, b) zaznaczenia max/min, c) średnie różnice\nimport numpy as np\nimport matplotlib.pyplot as plt\n\ntemp_2022 = [2, 4, 8, 13, 18, 21, 24, 23, 19, 14, 8, 3]\ntemp_2023 = [3, 5, 9, 14, 19, 22, 25, 24, 20, 15, 9, 4]\nmiesiace = ['Sty', 'Lut', 'Mar', 'Kwi', 'Maj', 'Cze', 'Lip', 'Sie', 'Wrz', 'Paź', 'Lis', 'Gru']\n\nplt.figure()\nplt.plot(miesiace, temp_2022, marker=\"o\", label=\"2022\")\nplt.plot(miesiace, temp_2023, marker=\"o\", label=\"2023\")\nplt.title(\"Temperatury 2022 vs 2023\"); plt.xlabel(\"Miesiąc\"); plt.ylabel(\"°C\"); plt.legend(); plt.tight_layout(); plt.show()\n\nidx_max_22, idx_min_22 = int(np.argmax(temp_2022)), int(np.argmin(temp_2022))\nidx_max_23, idx_min_23 = int(np.argmax(temp_2023)), int(np.argmin(temp_2023))\n\nplt.figure()\nplt.plot(miesiace, temp_2022, marker=\"o\", label=\"2022\")\nplt.plot(miesiace, temp_2023, marker=\"o\", label=\"2023\")\nplt.scatter([miesiace[idx_max_22]],[temp_2022[idx_max_22]], s=80, label=\"max 2022\")\nplt.scatter([miesiace[idx_min_22]],[temp_2022[idx_min_22]], s=80, label=\"min 2022\")\nplt.scatter([miesiace[idx_max_23]],[temp_2023[idx_max_23]], s=80, label=\"max 2023\")\nplt.scatter([miesiace[idx_min_23]],[temp_2023[idx_min_23]], s=80, label=\"min 2023\")\nplt.title(\"Ekstrema miesięczne\"); plt.xlabel(\"Miesiąc\"); plt.ylabel(\"°C\"); plt.legend(); plt.tight_layout(); plt.show()\n\ndiff = np.array(temp_2023) - np.array(temp_2022)\nprint(f\"Średnia różnica (2023-2022): {diff.mean():.2f} °C  |  Średnia bezwzględna: {np.abs(diff).mean():.2f} °C\")\n",
      "metadata": {
        "id": "sS9ZHN4uLT9V"
      },
      "execution_count": null,
      "outputs": []
    },
    {
      "cell_type": "markdown",
      "source": [
        "ZADANIE 4: Symulacja Monte Carlo\n",
        "---------------------------------\n",
        "Zasymuluj 1000 rzutów kostką (6-ścienną):\n",
        "\n",
        "a) Wygeneruj dane używając np.random.randint(1, 7, 1000)\n",
        "\n",
        "b) Stwórz histogram pokazujący częstość każdej liczby\n",
        "\n",
        "c) Oblicz teoretyczne i empiryczne prawdopodobieństwo każdej liczby\n",
        "\n",
        "d) Czy wyniki są zgodne z teorią? (każda liczba ~16.67%)"
      ],
      "metadata": {
        "id": "gvKeZoXNLUJj"
      }
    },
    {
      "cell_type": "code",
      "metadata": {},
      "source": "# ZADANIE 4 — rozwiązanie\n# a) losowania, b) histogram, c) p_teoria vs p_empiryczne, d) krótki komentarz\nimport numpy as np\nimport matplotlib.pyplot as plt\nimport pandas as pd\n\nnp.random.seed(42)\nrzuty = np.random.randint(1, 7, 1000)\n\nplt.figure()\nplt.hist(rzuty, bins=np.arange(0.5, 6.6, 1.0), rwidth=0.9)\nplt.xticks([1,2,3,4,5,6])\nplt.xlabel(\"Wynik\"); plt.ylabel(\"Liczność\"); plt.title(\"1000 rzutów kostką\"); plt.tight_layout(); plt.show()\n\nwartosci, licznosci = np.unique(rzuty, return_counts=True)\nemp = {int(v): float(n/len(rzuty)) for v,n in zip(wartosci, licznosci)}\nteo = {i: 1/6 for i in range(1,7)}\n\ndf_prob = pd.DataFrame({\n    \"oczko\": list(teo.keys()),\n    \"p_teoria\": list(teo.values()),\n    \"p_empiryczne\": [emp.get(i,0.0) for i in teo.keys()]\n})\ndf_prob[\"abs_diff\"] = (df_prob[\"p_empiryczne\"] - df_prob[\"p_teoria\"]).abs()\ndisplay(df_prob)\n\nmax_diff = df_prob[\"abs_diff\"].max()\nprint(f\"max |p_emp - p_teo| = {max_diff:.4f}\")\n"
    }
  ]
}